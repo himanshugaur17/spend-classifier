{
  "nbformat": 4,
  "nbformat_minor": 0,
  "metadata": {
    "colab": {
      "provenance": [],
      "authorship_tag": "ABX9TyMEg/nO1ZefGQJAY0nWgykq",
      "include_colab_link": true
    },
    "kernelspec": {
      "name": "python3",
      "display_name": "Python 3"
    },
    "language_info": {
      "name": "python"
    }
  },
  "cells": [
    {
      "cell_type": "markdown",
      "metadata": {
        "id": "view-in-github",
        "colab_type": "text"
      },
      "source": [
        "<a href=\"https://colab.research.google.com/github/himanshugaur17/spend-classifier/blob/feature%2Finitial-setup/data_initial_analysis.ipynb\" target=\"_parent\"><img src=\"https://colab.research.google.com/assets/colab-badge.svg\" alt=\"Open In Colab\"/></a>"
      ]
    },
    {
      "cell_type": "code",
      "execution_count": 2,
      "metadata": {
        "id": "FrfXzMvFLcud",
        "outputId": "b1927bcf-e06a-4ccf-cabd-f00ddec2dd3d",
        "colab": {
          "base_uri": "https://localhost:8080/"
        }
      },
      "outputs": [
        {
          "output_type": "stream",
          "name": "stdout",
          "text": [
            "Mounted at /content/drive\n"
          ]
        }
      ],
      "source": [
        "from google.colab import drive\n",
        "drive.mount('/content/drive')"
      ]
    },
    {
      "cell_type": "code",
      "source": [
        "!pip --version\n"
      ],
      "metadata": {
        "id": "sWW_gMyOMaxF",
        "outputId": "791d829b-894f-4701-aec5-406a6f952123",
        "colab": {
          "base_uri": "https://localhost:8080/"
        }
      },
      "execution_count": 2,
      "outputs": [
        {
          "output_type": "stream",
          "name": "stdout",
          "text": [
            "pip 22.0.4 from /usr/local/lib/python3.8/dist-packages/pip (python 3.8)\n"
          ]
        }
      ]
    },
    {
      "cell_type": "code",
      "source": [
        "!pip install pandas"
      ],
      "metadata": {
        "id": "qIVTYDVtGJZc",
        "outputId": "f36700c3-6035-4a57-c3ab-20ffcdbe1f51",
        "colab": {
          "base_uri": "https://localhost:8080/"
        }
      },
      "execution_count": 3,
      "outputs": [
        {
          "output_type": "stream",
          "name": "stdout",
          "text": [
            "Looking in indexes: https://pypi.org/simple, https://us-python.pkg.dev/colab-wheels/public/simple/\n",
            "Requirement already satisfied: pandas in /usr/local/lib/python3.8/dist-packages (1.3.5)\n",
            "Requirement already satisfied: numpy>=1.17.3 in /usr/local/lib/python3.8/dist-packages (from pandas) (1.22.4)\n",
            "Requirement already satisfied: pytz>=2017.3 in /usr/local/lib/python3.8/dist-packages (from pandas) (2022.7.1)\n",
            "Requirement already satisfied: python-dateutil>=2.7.3 in /usr/local/lib/python3.8/dist-packages (from pandas) (2.8.2)\n",
            "Requirement already satisfied: six>=1.5 in /usr/local/lib/python3.8/dist-packages (from python-dateutil>=2.7.3->pandas) (1.15.0)\n"
          ]
        }
      ]
    },
    {
      "cell_type": "code",
      "source": [
        "import pandas as pd\n",
        "stmnt_df=pd.read_csv('/content/drive/MyDrive/Github/spend-classifier/feb-stmnt.csv')\n",
        "stmnt_df"
      ],
      "metadata": {
        "id": "sE9jRaQdHH1z",
        "outputId": "e3a929d6-9cf6-495a-d826-7ef36bad255c",
        "colab": {
          "base_uri": "https://localhost:8080/"
        }
      },
      "execution_count": 3,
      "outputs": [
        {
          "output_type": "stream",
          "name": "stdout",
          "text": [
            "<class 'pandas.core.indexes.base.Index'>\n"
          ]
        }
      ]
    },
    {
      "cell_type": "code",
      "source": [
        "stmnt_df.columns=list(map(lambda x:x.strip(),stmnt_df.columns.tolist()))\n",
        "stmnt_df.columns"
      ],
      "metadata": {
        "id": "mxKmx7FXao34",
        "outputId": "dc4fcbaf-3b71-47ed-9841-80d797741918",
        "colab": {
          "base_uri": "https://localhost:8080/"
        }
      },
      "execution_count": 7,
      "outputs": [
        {
          "output_type": "execute_result",
          "data": {
            "text/plain": [
              "Index(['Txn Date', 'Value Date', 'Description', 'Ref No./Cheque No.', 'Debit',\n",
              "       'Credit', 'Balance'],\n",
              "      dtype='object')"
            ]
          },
          "metadata": {},
          "execution_count": 7
        }
      ]
    },
    {
      "cell_type": "code",
      "source": [
        "def filterOutNoise(regex_filter,df,column):\n",
        "  filtered_out_df=df[df[column].str.contains(regex_filter,regex=True)]\n",
        "  return filtered_out_df.reset_index()"
      ],
      "metadata": {
        "id": "FBtZ9WgUOTiW"
      },
      "execution_count": 29,
      "outputs": []
    },
    {
      "cell_type": "code",
      "source": [
        "def myApplyFunc(x):\n",
        "  return pd.to_numeric(x.str.replace(',',''),errors='coerce')"
      ],
      "metadata": {
        "id": "2C6dZn9ThEvn"
      },
      "execution_count": 30,
      "outputs": []
    },
    {
      "cell_type": "code",
      "source": [
        "daily_debit_txns_df=filterOutNoise('TO TRANSFER|DEBIT(?! SWEEP)',stmnt_df,'Description')\n",
        "\n",
        "daily_debit_txns_df[['Debit','Credit']]=daily_debit_txns_df[['Debit','Credit']].apply(myApplyFunc)\n",
        "daily_debit_txns_df[daily_debit_txns_df['Debit']==daily_debit_txns_df['Debit'].max()]\n",
        "total_debit=daily_debit_txns_df['Debit'].sum()\n",
        "invstmnts_df=daily_debit_txns_df[daily_debit_txns_df['Description'].str.contains('DEBIT|Indian',regex=True)]\n",
        "debit_df=pd.concat([invstmnts_df,daily_debit_txns_df]).drop_duplicates(ignore_index=True)\n",
        "monthly_invstment_tot=invstmnts_df['Debit'].sum()"
      ],
      "metadata": {
        "id": "CUMrGBGRDMRE"
      },
      "execution_count": 43,
      "outputs": []
    },
    {
      "cell_type": "code",
      "source": [
        "print(monthly_invstment_tot)"
      ],
      "metadata": {
        "id": "8XM0MsnXFgXu",
        "outputId": "3337fe52-5656-4a39-ca18-3c4c8a8adb4e",
        "colab": {
          "base_uri": "https://localhost:8080/"
        }
      },
      "execution_count": 44,
      "outputs": [
        {
          "output_type": "stream",
          "name": "stdout",
          "text": [
            "77500.0\n"
          ]
        }
      ]
    },
    {
      "cell_type": "code",
      "source": [],
      "metadata": {
        "id": "7HZXkV6GsJxz"
      },
      "execution_count": null,
      "outputs": []
    }
  ]
}