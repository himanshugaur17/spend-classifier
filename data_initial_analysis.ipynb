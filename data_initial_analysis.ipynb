{
  "nbformat": 4,
  "nbformat_minor": 0,
  "metadata": {
    "colab": {
      "provenance": [],
      "authorship_tag": "ABX9TyO6P3TmntpdFbowzc9pKknd"
    },
    "kernelspec": {
      "name": "python3",
      "display_name": "Python 3"
    },
    "language_info": {
      "name": "python"
    }
  },
  "cells": [
    {
      "cell_type": "code",
      "execution_count": 2,
      "metadata": {
        "id": "FrfXzMvFLcud",
        "colab": {
          "base_uri": "https://localhost:8080/"
        },
        "outputId": "b1927bcf-e06a-4ccf-cabd-f00ddec2dd3d"
      },
      "outputs": [
        {
          "output_type": "stream",
          "name": "stdout",
          "text": [
            "Mounted at /content/drive\n"
          ]
        }
      ],
      "source": [
        "from google.colab import drive\n",
        "drive.mount('/content/drive')\n",
        "import pandas as pd\n",
        "stmnt_df=pd.read_csv('/content/drive/MyDrive/Github/spend-classifier/feb-stmnt.csv')"
      ]
    },
    {
      "cell_type": "markdown",
      "source": [
        "Stripping columns names of leading and trailing whitespaces as:\n",
        "\n",
        "\n",
        "---\n",
        "\n",
        "\n",
        "```\n",
        "map(lambda x:x.strip(),stmnt_df.columns.tolist())\n",
        "\n",
        "```\n",
        "\n"
      ],
      "metadata": {
        "id": "NsgkHb5XtH6u"
      }
    },
    {
      "cell_type": "code",
      "source": [
        "stmnt_df.columns=list(map(lambda x:x.strip(),stmnt_df.columns.tolist()))"
      ],
      "metadata": {
        "id": "mxKmx7FXao34"
      },
      "execution_count": 45,
      "outputs": []
    },
    {
      "cell_type": "code",
      "source": [
        "def filterOutNoise(regex_filter,df,column):\n",
        "  filtered_out_df=df[df[column].str.contains(regex_filter,regex=True)]\n",
        "  return filtered_out_df.reset_index()"
      ],
      "metadata": {
        "id": "FBtZ9WgUOTiW"
      },
      "execution_count": 29,
      "outputs": []
    },
    {
      "cell_type": "markdown",
      "source": [
        "The below applyFunc gets called two times, one for Debit series and second time for the Credit series.\n",
        "This function is given as parameter pd.apply(here passed as input)\n",
        "\n",
        "---\n",
        "\n",
        "```\n",
        "daily_debit_txns_df[['Debit','Credit']].apply(myApplyFunc)\n",
        "```\n"
      ],
      "metadata": {
        "id": "EBsNPrm2sby-"
      }
    },
    {
      "cell_type": "code",
      "source": [
        "def myApplyFunc(x):\n",
        "  return pd.to_numeric(x.str.replace(',',''),errors='coerce')"
      ],
      "metadata": {
        "id": "2C6dZn9ThEvn"
      },
      "execution_count": 30,
      "outputs": []
    },
    {
      "cell_type": "code",
      "source": [
        "regex_to_take_out_debit_txns='TO TRANSFER|DEBIT(?! SWEEP)'\n",
        "daily_debit_txns_df=filterOutNoise(regex_to_take_out_debit_txns,stmnt_df,'Description')\n",
        "daily_debit_txns_df[['Debit','Credit']]=daily_debit_txns_df[['Debit','Credit']].apply(myApplyFunc)\n",
        "daily_debit_txns_df[daily_debit_txns_df['Debit']==daily_debit_txns_df['Debit'].max()]\n",
        "total_debit=daily_debit_txns_df['Debit'].sum()\n",
        "invstmnts_df=daily_debit_txns_df[daily_debit_txns_df['Description'].str.contains('DEBIT|Indian',regex=True)]\n",
        "debit_df=pd.concat([invstmnts_df,daily_debit_txns_df]).drop_duplicates(ignore_index=True,keep=False)\n",
        "monthly_invstment_tot=invstmnts_df['Debit'].sum()"
      ],
      "metadata": {
        "id": "CUMrGBGRDMRE"
      },
      "execution_count": 49,
      "outputs": []
    },
    {
      "cell_type": "code",
      "source": [
        "invstmnts_df.columns"
      ],
      "metadata": {
        "id": "vRd4w3mU3xM_",
        "outputId": "9e672719-63cd-4ce7-9b58-cdf5a1072ad5",
        "colab": {
          "base_uri": "https://localhost:8080/"
        }
      },
      "execution_count": 75,
      "outputs": [
        {
          "output_type": "execute_result",
          "data": {
            "text/plain": [
              "Index(['index', 'Txn Date', 'Value Date', 'Description', 'Ref No./Cheque No.',\n",
              "       'Debit', 'Credit', 'Balance'],\n",
              "      dtype='object')"
            ]
          },
          "metadata": {},
          "execution_count": 75
        }
      ]
    },
    {
      "cell_type": "code",
      "source": [
        "debit_df['Shop']=debit_df['Description'].str.split('/').apply(lambda x:x[3])\n",
        "spend_by_shop=debit_df.groupby('Shop')['Debit'].sum()\n",
        "spend_by_shop.sort_values(ascending=False)"
      ],
      "metadata": {
        "colab": {
          "base_uri": "https://localhost:8080/"
        },
        "id": "8XM0MsnXFgXu",
        "outputId": "32206b29-0570-478e-84f2-2c105f5bc1d0"
      },
      "execution_count": 74,
      "outputs": [
        {
          "output_type": "execute_result",
          "data": {
            "text/plain": [
              "Shop\n",
              "CREDCLUB1    26570.00\n",
              "Body Mec     10000.00\n",
              "JAY MALH      1021.00\n",
              "PRANNAY       1000.00\n",
              "SUKESH N       790.00\n",
              "DATTATRA       678.00\n",
              "Puneri f       645.00\n",
              "RUPESH N       425.00\n",
              "FINE FET       300.00\n",
              "SHINDE D       295.00\n",
              "bigbasket      223.99\n",
              "SANDIP L       220.00\n",
              "BBNOW          189.00\n",
              "STELLAR        120.00\n",
              "MUKLES         120.00\n",
              "DIGAMBAR       100.00\n",
              "MEDINET         80.00\n",
              "HIFJUR A        64.00\n",
              "Reliable        40.00\n",
              "BAKERS P        40.00\n",
              "Shubham         36.00\n",
              "Bigbasket        5.00\n",
              "Name: Debit, dtype: float64"
            ]
          },
          "metadata": {},
          "execution_count": 74
        }
      ]
    },
    {
      "cell_type": "code",
      "source": [
        "spend_by_shop_and_date=debit_df.groupby(['Txn Date','Shop'])['Debit'].sum()\n",
        "spend_by_shop_and_date.sort_values(ascending=False)"
      ],
      "metadata": {
        "id": "i7Kt_Vlk36Uw",
        "outputId": "b7860b0a-fd25-4319-edde-d59fd66bd832",
        "colab": {
          "base_uri": "https://localhost:8080/"
        }
      },
      "execution_count": 76,
      "outputs": [
        {
          "output_type": "execute_result",
          "data": {
            "text/plain": [
              "Txn Date     Shop     \n",
              "17 Feb 2023  CREDCLUB1    18634.00\n",
              "28 Feb 2023  Body Mec     10000.00\n",
              "20 Feb 2023  CREDCLUB1     7936.00\n",
              "4 Feb 2023   PRANNAY       1000.00\n",
              "21 Feb 2023  DATTATRA       678.00\n",
              "12 Feb 2023  FINE FET       300.00\n",
              "             Puneri f       249.00\n",
              "2 Feb 2023   SHINDE D       235.00\n",
              "4 Feb 2023   JAY MALH       228.00\n",
              "2 Feb 2023   bigbasket      223.99\n",
              "28 Feb 2023  Puneri f       220.00\n",
              "6 Feb 2023   JAY MALH       218.00\n",
              "7 Feb 2023   BBNOW          189.00\n",
              "14 Feb 2023  Puneri f       144.00\n",
              "10 Feb 2023  SUKESH N       140.00\n",
              "4 Feb 2023   STELLAR        120.00\n",
              "17 Feb 2023  RUPESH N       115.00\n",
              "10 Feb 2023  SANDIP L       110.00\n",
              "26 Feb 2023  SUKESH N       110.00\n",
              "3 Feb 2023   JAY MALH       108.00\n",
              "19 Feb 2023  DIGAMBAR       100.00\n",
              "15 Feb 2023  RUPESH N        95.00\n",
              "7 Feb 2023   RUPESH N        90.00\n",
              "23 Feb 2023  JAY MALH        85.00\n",
              "9 Feb 2023   RUPESH N        80.00\n",
              "21 Feb 2023  SUKESH N        80.00\n",
              "10 Feb 2023  MUKLES          80.00\n",
              "11 Feb 2023  MEDINET         80.00\n",
              "14 Feb 2023  JAY MALH        78.00\n",
              "             SUKESH N        65.00\n",
              "             HIFJUR A        64.00\n",
              "9 Feb 2023   SUKESH N        60.00\n",
              "11 Feb 2023  SHINDE D        60.00\n",
              "13 Feb 2023  JAY MALH        59.00\n",
              "7 Feb 2023   SUKESH N        50.00\n",
              "12 Feb 2023  JAY MALH        50.00\n",
              "25 Feb 2023  JAY MALH        46.00\n",
              "10 Feb 2023  RUPESH N        45.00\n",
              "12 Feb 2023  SUKESH N        45.00\n",
              "28 Feb 2023  SANDIP L        44.00\n",
              "27 Feb 2023  SANDIP L        44.00\n",
              "2 Feb 2023   JAY MALH        41.00\n",
              "20 Feb 2023  SUKESH N        40.00\n",
              "7 Feb 2023   MUKLES          40.00\n",
              "14 Feb 2023  BAKERS P        40.00\n",
              "15 Feb 2023  Reliable        40.00\n",
              "24 Feb 2023  SUKESH N        40.00\n",
              "22 Feb 2023  SUKESH N        40.00\n",
              "18 Feb 2023  Shubham         36.00\n",
              "17 Feb 2023  SUKESH N        35.00\n",
              "7 Feb 2023   Puneri f        32.00\n",
              "17 Feb 2023  JAY MALH        31.00\n",
              "15 Feb 2023  SUKESH N        30.00\n",
              "27 Feb 2023  SUKESH N        30.00\n",
              "1 Feb 2023   JAY MALH        27.00\n",
              "15 Feb 2023  JAY MALH        25.00\n",
              "5 Feb 2023   JAY MALH        25.00\n",
              "19 Feb 2023  SUKESH N        25.00\n",
              "22 Feb 2023  SANDIP L        22.00\n",
              "4 Feb 2023   Bigbasket        5.00\n",
              "Name: Debit, dtype: float64"
            ]
          },
          "metadata": {},
          "execution_count": 76
        }
      ]
    },
    {
      "cell_type": "code",
      "source": [],
      "metadata": {
        "id": "7HZXkV6GsJxz"
      },
      "execution_count": null,
      "outputs": []
    }
  ]
}