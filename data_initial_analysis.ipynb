{
  "nbformat": 4,
  "nbformat_minor": 0,
  "metadata": {
    "colab": {
      "provenance": [],
      "authorship_tag": "ABX9TyOoC14K7AMbPYtm/6RjbOev",
      "include_colab_link": true
    },
    "kernelspec": {
      "name": "python3",
      "display_name": "Python 3"
    },
    "language_info": {
      "name": "python"
    }
  },
  "cells": [
    {
      "cell_type": "markdown",
      "metadata": {
        "id": "view-in-github",
        "colab_type": "text"
      },
      "source": [
        "<a href=\"https://colab.research.google.com/github/himanshugaur17/spend-classifier/blob/feature%2Finitial-setup/data_initial_analysis.ipynb\" target=\"_parent\"><img src=\"https://colab.research.google.com/assets/colab-badge.svg\" alt=\"Open In Colab\"/></a>"
      ]
    },
    {
      "cell_type": "code",
      "execution_count": 2,
      "metadata": {
        "id": "FrfXzMvFLcud",
        "colab": {
          "base_uri": "https://localhost:8080/"
        },
        "outputId": "b1927bcf-e06a-4ccf-cabd-f00ddec2dd3d"
      },
      "outputs": [
        {
          "output_type": "stream",
          "name": "stdout",
          "text": [
            "Mounted at /content/drive\n"
          ]
        }
      ],
      "source": [
        "from google.colab import drive\n",
        "drive.mount('/content/drive')\n",
        "import pandas as pd\n",
        "stmnt_df=pd.read_csv('/content/drive/MyDrive/Github/spend-classifier/feb-stmnt.csv')"
      ]
    },
    {
      "cell_type": "markdown",
      "source": [
        "Stripping columns names of leading and trailing whitespaces as:\n",
        "\n",
        "\n",
        "---\n",
        "\n",
        "\n",
        "```\n",
        "map(lambda x:x.strip(),stmnt_df.columns.tolist())\n",
        "\n",
        "```\n",
        "\n"
      ],
      "metadata": {
        "id": "NsgkHb5XtH6u"
      }
    },
    {
      "cell_type": "code",
      "source": [
        "stmnt_df.columns=list(map(lambda x:x.strip(),stmnt_df.columns.tolist()))"
      ],
      "metadata": {
        "id": "mxKmx7FXao34"
      },
      "execution_count": 45,
      "outputs": []
    },
    {
      "cell_type": "code",
      "source": [
        "def filterOutNoise(regex_filter,df,column):\n",
        "  filtered_out_df=df[df[column].str.contains(regex_filter,regex=True)]\n",
        "  return filtered_out_df.reset_index()"
      ],
      "metadata": {
        "id": "FBtZ9WgUOTiW"
      },
      "execution_count": 29,
      "outputs": []
    },
    {
      "cell_type": "markdown",
      "source": [
        "The below applyFunc gets called two times, one for Debit series and second time for the Credit series.\n",
        "This function is given as parameter pd.apply(here passed as input)\n",
        "\n",
        "---\n",
        "\n",
        "```\n",
        "daily_debit_txns_df[['Debit','Credit']].apply(myApplyFunc)\n",
        "```\n"
      ],
      "metadata": {
        "id": "EBsNPrm2sby-"
      }
    },
    {
      "cell_type": "code",
      "source": [
        "def myApplyFunc(x):\n",
        "  return pd.to_numeric(x.str.replace(',',''),errors='coerce')"
      ],
      "metadata": {
        "id": "2C6dZn9ThEvn"
      },
      "execution_count": 30,
      "outputs": []
    },
    {
      "cell_type": "code",
      "source": [
        "regex_to_take_out_debit_txns='TO TRANSFER|DEBIT(?! SWEEP)'\n",
        "daily_debit_txns_df=filterOutNoise(regex_to_take_out_debit_txns,stmnt_df,'Description')\n",
        "daily_debit_txns_df[['Debit','Credit']]=daily_debit_txns_df[['Debit','Credit']].apply(myApplyFunc)\n",
        "daily_debit_txns_df[daily_debit_txns_df['Debit']==daily_debit_txns_df['Debit'].max()]\n",
        "total_debit=daily_debit_txns_df['Debit'].sum()\n",
        "invstmnts_df=daily_debit_txns_df[daily_debit_txns_df['Description'].str.contains('DEBIT|Indian',regex=True)]\n",
        "debit_df=pd.concat([invstmnts_df,daily_debit_txns_df]).drop_duplicates(ignore_index=True,keep=False)\n",
        "monthly_invstment_tot=invstmnts_df['Debit'].sum()"
      ],
      "metadata": {
        "id": "CUMrGBGRDMRE"
      },
      "execution_count": 49,
      "outputs": []
    },
    {
      "cell_type": "code",
      "source": [],
      "metadata": {
        "colab": {
          "base_uri": "https://localhost:8080/"
        },
        "id": "8XM0MsnXFgXu",
        "outputId": "0e19c925-0937-47b6-b34c-93865f9c5247"
      },
      "execution_count": 51,
      "outputs": [
        {
          "output_type": "stream",
          "name": "stdout",
          "text": [
            "42961.99\n"
          ]
        }
      ]
    },
    {
      "cell_type": "code",
      "source": [],
      "metadata": {
        "id": "7HZXkV6GsJxz"
      },
      "execution_count": null,
      "outputs": []
    }
  ]
}